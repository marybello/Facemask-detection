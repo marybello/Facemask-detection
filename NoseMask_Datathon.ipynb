{
  "nbformat": 4,
  "nbformat_minor": 0,
  "metadata": {
    "colab": {
      "name": "NoseMask_Datathon.ipynb",
      "provenance": [],
      "collapsed_sections": [],
      "mount_file_id": "1hUp2xx99vVLVYbI597YSHydpTiucUfZ_",
      "authorship_tag": "ABX9TyMkvTsFvPmoYxxjsdWEv11I",
      "include_colab_link": true
    },
    "kernelspec": {
      "name": "python3",
      "display_name": "Python 3"
    },
    "accelerator": "GPU"
  },
  "cells": [
    {
      "cell_type": "markdown",
      "metadata": {
        "id": "view-in-github",
        "colab_type": "text"
      },
      "source": [
        "<a href=\"https://colab.research.google.com/github/marybello/Facemask-detection/blob/main/NoseMask_Datathon.ipynb\" target=\"_parent\"><img src=\"https://colab.research.google.com/assets/colab-badge.svg\" alt=\"Open In Colab\"/></a>"
      ]
    },
    {
      "cell_type": "code",
      "metadata": {
        "id": "n2fv5DvREH31"
      },
      "source": [
        "import numpy as np\n",
        "import pandas as pd\n",
        "import matplotlib.pyplot as plt\n",
        "import tensorflow as tf\n",
        "\n"
      ],
      "execution_count": null,
      "outputs": []
    },
    {
      "cell_type": "code",
      "metadata": {
        "id": "BOEG_xVONV3p"
      },
      "source": [
        "!unzip \"/content/drive/My Drive/face_mask_detection.zip\" -d \"/content/\""
      ],
      "execution_count": null,
      "outputs": []
    },
    {
      "cell_type": "code",
      "metadata": {
        "id": "l8EH4yBeViqa"
      },
      "source": [
        "df_train = pd.read_csv('face_mask_detection/Training_set_face_mask.csv')"
      ],
      "execution_count": null,
      "outputs": []
    },
    {
      "cell_type": "code",
      "metadata": {
        "id": "_d3qpUIrXM9y",
        "outputId": "e9fc7882-0328-4dde-f169-3c568a08fcf2",
        "colab": {
          "base_uri": "https://localhost:8080/",
          "height": 206
        }
      },
      "source": [
        "df_train.head()"
      ],
      "execution_count": null,
      "outputs": [
        {
          "output_type": "execute_result",
          "data": {
            "text/html": [
              "<div>\n",
              "<style scoped>\n",
              "    .dataframe tbody tr th:only-of-type {\n",
              "        vertical-align: middle;\n",
              "    }\n",
              "\n",
              "    .dataframe tbody tr th {\n",
              "        vertical-align: top;\n",
              "    }\n",
              "\n",
              "    .dataframe thead th {\n",
              "        text-align: right;\n",
              "    }\n",
              "</style>\n",
              "<table border=\"1\" class=\"dataframe\">\n",
              "  <thead>\n",
              "    <tr style=\"text-align: right;\">\n",
              "      <th></th>\n",
              "      <th>filename</th>\n",
              "      <th>label</th>\n",
              "    </tr>\n",
              "  </thead>\n",
              "  <tbody>\n",
              "    <tr>\n",
              "      <th>0</th>\n",
              "      <td>Image_1.jpg</td>\n",
              "      <td>without_mask</td>\n",
              "    </tr>\n",
              "    <tr>\n",
              "      <th>1</th>\n",
              "      <td>Image_2.jpg</td>\n",
              "      <td>without_mask</td>\n",
              "    </tr>\n",
              "    <tr>\n",
              "      <th>2</th>\n",
              "      <td>Image_3.jpg</td>\n",
              "      <td>without_mask</td>\n",
              "    </tr>\n",
              "    <tr>\n",
              "      <th>3</th>\n",
              "      <td>Image_4.jpg</td>\n",
              "      <td>without_mask</td>\n",
              "    </tr>\n",
              "    <tr>\n",
              "      <th>4</th>\n",
              "      <td>Image_5.jpg</td>\n",
              "      <td>without_mask</td>\n",
              "    </tr>\n",
              "  </tbody>\n",
              "</table>\n",
              "</div>"
            ],
            "text/plain": [
              "      filename         label\n",
              "0  Image_1.jpg  without_mask\n",
              "1  Image_2.jpg  without_mask\n",
              "2  Image_3.jpg  without_mask\n",
              "3  Image_4.jpg  without_mask\n",
              "4  Image_5.jpg  without_mask"
            ]
          },
          "metadata": {
            "tags": []
          },
          "execution_count": 4
        }
      ]
    },
    {
      "cell_type": "code",
      "metadata": {
        "id": "fUZwheJCTPvw",
        "outputId": "5b7dfe18-9f99-40cb-fa72-a661df91f130",
        "colab": {
          "base_uri": "https://localhost:8080/",
          "height": 36
        }
      },
      "source": [
        "df_train.shape"
      ],
      "execution_count": null,
      "outputs": [
        {
          "output_type": "execute_result",
          "data": {
            "text/plain": [
              "(11264, 2)"
            ]
          },
          "metadata": {
            "tags": []
          },
          "execution_count": 5
        }
      ]
    },
    {
      "cell_type": "code",
      "metadata": {
        "id": "pbdmcgWhX_9t"
      },
      "source": [
        "import cv2\n",
        "images_mask =[]\n",
        "labels_with = []\n",
        "images_without = []\n",
        "labels_without = []"
      ],
      "execution_count": null,
      "outputs": []
    },
    {
      "cell_type": "code",
      "metadata": {
        "id": "fIpMw6AqYQ-r"
      },
      "source": [
        "for name, label in zip(df_train['filename'], df_train['label']):\n",
        "  if label == \"without_mask\":\n",
        "    image = cv2.imread(\"face_mask_detection/train/\" + name)\n",
        "    r = cv2.resize(image, (48,48)) \n",
        "    images_without.append(r)\n",
        "    labels_without.append(label)\n",
        "  else:\n",
        "    image =  cv2.imread(\"face_mask_detection/train/\" + name)\n",
        "    r = cv2.resize(image, (48,48))\n",
        "    images_mask.append(r)\n",
        "    labels_with.append(label) \n"
      ],
      "execution_count": null,
      "outputs": []
    },
    {
      "cell_type": "code",
      "metadata": {
        "id": "B9SiWhyuZ8BJ"
      },
      "source": [
        "from google.colab.patches import cv2_imshow\n"
      ],
      "execution_count": null,
      "outputs": []
    },
    {
      "cell_type": "code",
      "metadata": {
        "id": "vgC4qeJ7a3IK",
        "outputId": "661c1b5d-8545-4cd0-b69c-dc94dd1dc526",
        "colab": {
          "base_uri": "https://localhost:8080/",
          "height": 353
        }
      },
      "source": [
        "for i in images_mask[0:7]:\n",
        "  cv2_imshow(i)"
      ],
      "execution_count": null,
      "outputs": [
        {
          "output_type": "display_data",
          "data": {
            "image/png": "[encoded data removed]",
            "text/plain": [
              "<PIL.Image.Image image mode=RGB size=48x48 at 0x7F32134A6C18>"
            ]
          },
          "metadata": {
            "tags": []
          }
        },
        {
          "output_type": "display_data",
          "data": {
            "image/png": "[encoded data removed]",
            "text/plain": [
              "<PIL.Image.Image image mode=RGB size=48x48 at 0x7F32134A6CC0>"
            ]
          },
          "metadata": {
            "tags": []
          }
        },
        {
          "output_type": "display_data",
          "data": {
            "image/png": "[encoded data removed]",
            "text/plain": [
              "<PIL.Image.Image image mode=RGB size=48x48 at 0x7F32134A6C18>"
            ]
          },
          "metadata": {
            "tags": []
          }
        },
        {
          "output_type": "display_data",
          "data": {
            "image/png": "[encoded data removed]",
            "text/plain": [
              "<PIL.Image.Image image mode=RGB size=48x48 at 0x7F32134A6CC0>"
            ]
          },
          "metadata": {
            "tags": []
          }
        },
        {
          "output_type": "display_data",
          "data": {
            "image/png": "[encoded data removed]",
            "text/plain": [
              "<PIL.Image.Image image mode=RGB size=48x48 at 0x7F32134A6CF8>"
            ]
          },
          "metadata": {
            "tags": []
          }
        },
        {
          "output_type": "display_data",
          "data": {
            "image/png": "[encoded data removed]",
            "text/plain": [
              "<PIL.Image.Image image mode=RGB size=48x48 at 0x7F32134A6C50>"
            ]
          },
          "metadata": {
            "tags": []
          }
        },
        {
          "output_type": "display_data",
          "data": {
            "image/png": "[encoded data removed]",
            "text/plain": [
              "<PIL.Image.Image image mode=RGB size=48x48 at 0x7F32134A6C88>"
            ]
          },
          "metadata": {
            "tags": []
          }
        }
      ]
    },
    {
      "cell_type": "code",
      "metadata": {
        "id": "XwB7DKVRcNvh",
        "outputId": "4363a62e-e13d-4129-eb0f-63ecce2b631b",
        "colab": {
          "base_uri": "https://localhost:8080/",
          "height": 353
        }
      },
      "source": [
        "for i in images_without[0:7]:\n",
        "  cv2_imshow(i)"
      ],
      "execution_count": null,
      "outputs": [
        {
          "output_type": "display_data",
          "data": {
            "image/png": "[encoded data removed]",
            "text/plain": [
              "<PIL.Image.Image image mode=RGB size=48x48 at 0x7F32134A6C18>"
            ]
          },
          "metadata": {
            "tags": []
          }
        },
        {
          "output_type": "display_data",
          "data": {
            "image/png": "[encoded data removed]",
            "text/plain": [
              "<PIL.Image.Image image mode=RGB size=48x48 at 0x7F32134A6C18>"
            ]
          },
          "metadata": {
            "tags": []
          }
        },
        {
          "output_type": "display_data",
          "data": {
            "image/png": "[encoded data removed]",
            "text/plain": [
              "<PIL.Image.Image image mode=RGB size=48x48 at 0x7F32134A6CC0>"
            ]
          },
          "metadata": {
            "tags": []
          }
        },
        {
          "output_type": "display_data",
          "data": {
            "image/png": "[encoded data removed]",
            "text/plain": [
              "<PIL.Image.Image image mode=RGB size=48x48 at 0x7F32134A6C50>"
            ]
          },
          "metadata": {
            "tags": []
          }
        },
        {
          "output_type": "display_data",
          "data": {
            "image/png": "[encoded data removed]",
            "text/plain": [
              "<PIL.Image.Image image mode=RGB size=48x48 at 0x7F32134A6C88>"
            ]
          },
          "metadata": {
            "tags": []
          }
        },
        {
          "output_type": "display_data",
          "data": {
            "image/png": "[encoded data removed]",
            "text/plain": [
              "<PIL.Image.Image image mode=RGB size=48x48 at 0x7F32134A6CF8>"
            ]
          },
          "metadata": {
            "tags": []
          }
        },
        {
          "output_type": "display_data",
          "data": {
            "image/png": "[encoded data removed]",
            "text/plain": [
              "<PIL.Image.Image image mode=RGB size=48x48 at 0x7F32134A6C18>"
            ]
          },
          "metadata": {
            "tags": []
          }
        }
      ]
    },
    {
      "cell_type": "code",
      "metadata": {
        "id": "rtWtTxE7dL5X"
      },
      "source": [
        "images_mask.extend(images_without)\n",
        "labels_with.extend(labels_without)"
      ],
      "execution_count": null,
      "outputs": []
    },
    {
      "cell_type": "code",
      "metadata": {
        "id": "Sf585CJohaoT"
      },
      "source": [
        "labels_with = np.array(labels_with)\n",
        "images_mask = np.array(images_mask)"
      ],
      "execution_count": null,
      "outputs": []
    },
    {
      "cell_type": "code",
      "metadata": {
        "id": "yIOfd3LSl-O0"
      },
      "source": [
        "from sklearn.model_selection import train_test_split\n",
        "x_train, x_test, y_train, y_test = train_test_split(images_mask, labels_with, test_size=0.2)\n"
      ],
      "execution_count": null,
      "outputs": []
    },
    {
      "cell_type": "code",
      "metadata": {
        "id": "FTh0AvholYIH"
      },
      "source": [
        "from keras.preprocessing.image import ImageDataGenerator\n",
        "datagen = ImageDataGenerator(rescale=1./255)"
      ],
      "execution_count": null,
      "outputs": []
    },
    {
      "cell_type": "code",
      "metadata": {
        "id": "cWpqf8HgjMCJ"
      },
      "source": [
        "x_train = x_train.astype('float32')\n",
        "x_test = x_test.astype('float32')"
      ],
      "execution_count": null,
      "outputs": []
    },
    {
      "cell_type": "code",
      "metadata": {
        "id": "QLz8NOOp_7b5"
      },
      "source": [
        ""
      ],
      "execution_count": null,
      "outputs": []
    },
    {
      "cell_type": "code",
      "metadata": {
        "id": "jyA6CrMsd5K6"
      },
      "source": [
        "from keras import Sequential\n",
        "from keras.layers import Conv2D, Dense, BatchNormalization, MaxPool2D, Flatten\n",
        "from keras.optimizers import Adam"
      ],
      "execution_count": null,
      "outputs": []
    },
    {
      "cell_type": "code",
      "metadata": {
        "id": "l52ozyRxD-su",
        "outputId": "092c8561-1821-4e4c-ce77-30a905309fa7",
        "colab": {
          "base_uri": "https://localhost:8080/",
          "height": 691
        }
      },
      "source": [
        "model = Sequential()\n",
        "model.add(Conv2D(32, (3,3), activation='relu', input_shape=(48,48,3)))\n",
        "model.add(BatchNormalization())\n",
        "model.add(Conv2D(32, (3,3), activation='relu'))\n",
        "model.add(BatchNormalization())\n",
        "model.add(MaxPool2D(pool_size=(2,2)))\n",
        "model.add(Conv2D(64, (3,3), activation='relu'))\n",
        "model.add(BatchNormalization())\n",
        "model.add(Conv2D(64, (3,3), activation='relu'))\n",
        "model.add(BatchNormalization())\n",
        "model.add(MaxPool2D(pool_size=(2,2)))\n",
        "model.add(Flatten())\n",
        "\n",
        "#fully connected layer\n",
        "model.add(Dense(512, activation='relu'))\n",
        "model.add(BatchNormalization())\n",
        "model.add(Dense(1, activation='sigmoid'))\n",
        "model.summary()"
      ],
      "execution_count": null,
      "outputs": [
        {
          "output_type": "stream",
          "text": [
            "Model: \"sequential\"\n",
            "_________________________________________________________________\n",
            "Layer (type)                 Output Shape              Param #   \n",
            "=================================================================\n",
            "conv2d (Conv2D)              (None, 46, 46, 32)        896       \n",
            "_________________________________________________________________\n",
            "batch_normalization (BatchNo (None, 46, 46, 32)        128       \n",
            "_________________________________________________________________\n",
            "conv2d_1 (Conv2D)            (None, 44, 44, 32)        9248      \n",
            "_________________________________________________________________\n",
            "batch_normalization_1 (Batch (None, 44, 44, 32)        128       \n",
            "_________________________________________________________________\n",
            "max_pooling2d (MaxPooling2D) (None, 22, 22, 32)        0         \n",
            "_________________________________________________________________\n",
            "conv2d_2 (Conv2D)            (None, 20, 20, 64)        18496     \n",
            "_________________________________________________________________\n",
            "batch_normalization_2 (Batch (None, 20, 20, 64)        256       \n",
            "_________________________________________________________________\n",
            "conv2d_3 (Conv2D)            (None, 18, 18, 64)        36928     \n",
            "_________________________________________________________________\n",
            "batch_normalization_3 (Batch (None, 18, 18, 64)        256       \n",
            "_________________________________________________________________\n",
            "max_pooling2d_1 (MaxPooling2 (None, 9, 9, 64)          0         \n",
            "_________________________________________________________________\n",
            "flatten (Flatten)            (None, 5184)              0         \n",
            "_________________________________________________________________\n",
            "dense (Dense)                (None, 512)               2654720   \n",
            "_________________________________________________________________\n",
            "batch_normalization_4 (Batch (None, 512)               2048      \n",
            "_________________________________________________________________\n",
            "dense_1 (Dense)              (None, 1)                 513       \n",
            "=================================================================\n",
            "Total params: 2,723,617\n",
            "Trainable params: 2,722,209\n",
            "Non-trainable params: 1,408\n",
            "_________________________________________________________________\n"
          ],
          "name": "stdout"
        }
      ]
    },
    {
      "cell_type": "code",
      "metadata": {
        "id": "9vxSEt_rA0Kc"
      },
      "source": [
        "from keras.utils import to_categorical\n",
        "y_trainS = pd.Series(y_train)\n",
        "y_testS = pd.Series(y_test)\n",
        "y_train = y_trainS.map({'with_mask':0, 'without_mask':1})\n",
        "y_test = y_testS.map({'with_mask':0, 'without_mask':1})"
      ],
      "execution_count": null,
      "outputs": []
    },
    {
      "cell_type": "code",
      "metadata": {
        "id": "mmVJUvM4B7St"
      },
      "source": [
        "y_train = y_train.to_numpy()\n",
        "y_test = y_test.to_numpy()"
      ],
      "execution_count": null,
      "outputs": []
    },
    {
      "cell_type": "code",
      "metadata": {
        "id": "kxRox5vgCHyN"
      },
      "source": [
        "y_train =to_categorical(y_train,2)\n",
        "y_test = to_categorical(y_test, 2)"
      ],
      "execution_count": null,
      "outputs": []
    },
    {
      "cell_type": "code",
      "metadata": {
        "id": "4TxK_lndCV6Y",
        "outputId": "ff2c5c76-b65c-4f32-85d7-720c8093c17c",
        "colab": {
          "base_uri": "https://localhost:8080/",
          "height": 36
        }
      },
      "source": [
        "y_train[8]"
      ],
      "execution_count": null,
      "outputs": [
        {
          "output_type": "execute_result",
          "data": {
            "text/plain": [
              "1"
            ]
          },
          "metadata": {
            "tags": []
          },
          "execution_count": 21
        }
      ]
    },
    {
      "cell_type": "code",
      "metadata": {
        "id": "suf4BFZ1hKrv"
      },
      "source": [
        "model.compile(optimizer='adam', loss='binary_crossentropy', metrics=['accuracy'])"
      ],
      "execution_count": null,
      "outputs": []
    },
    {
      "cell_type": "code",
      "metadata": {
        "id": "r861k4xyCgqR",
        "outputId": "5595977e-8af6-4616-c6e5-430bee1c987c",
        "colab": {
          "base_uri": "https://localhost:8080/",
          "height": 786
        }
      },
      "source": [
        "history = model.fit(datagen.flow(x_train, y_train), epochs=20, batch_size=32, validation_data=datagen.flow(x_test, y_test, shuffle=False))"
      ],
      "execution_count": null,
      "outputs": [
        {
          "output_type": "stream",
          "text": [
            "Epoch 1/20\n",
            "282/282 [==============================] - 3s 9ms/step - loss: 0.1500 - accuracy: 0.9516 - val_loss: 0.3586 - val_accuracy: 0.8415\n",
            "Epoch 2/20\n",
            "282/282 [==============================] - 2s 8ms/step - loss: 0.0696 - accuracy: 0.9766 - val_loss: 0.1331 - val_accuracy: 0.9574\n",
            "Epoch 3/20\n",
            "282/282 [==============================] - 2s 8ms/step - loss: 0.0596 - accuracy: 0.9801 - val_loss: 0.2170 - val_accuracy: 0.9130\n",
            "Epoch 4/20\n",
            "282/282 [==============================] - 2s 8ms/step - loss: 0.0418 - accuracy: 0.9857 - val_loss: 0.5805 - val_accuracy: 0.6733\n",
            "Epoch 5/20\n",
            "282/282 [==============================] - 2s 8ms/step - loss: 0.0333 - accuracy: 0.9872 - val_loss: 0.0906 - val_accuracy: 0.9703\n",
            "Epoch 6/20\n",
            "282/282 [==============================] - 2s 8ms/step - loss: 0.0311 - accuracy: 0.9889 - val_loss: 0.1022 - val_accuracy: 0.9618\n",
            "Epoch 7/20\n",
            "282/282 [==============================] - 2s 8ms/step - loss: 0.0304 - accuracy: 0.9889 - val_loss: 0.0682 - val_accuracy: 0.9800\n",
            "Epoch 8/20\n",
            "282/282 [==============================] - 2s 8ms/step - loss: 0.0231 - accuracy: 0.9935 - val_loss: 0.2070 - val_accuracy: 0.9636\n",
            "Epoch 9/20\n",
            "282/282 [==============================] - 2s 8ms/step - loss: 0.0200 - accuracy: 0.9927 - val_loss: 0.2292 - val_accuracy: 0.9525\n",
            "Epoch 10/20\n",
            "282/282 [==============================] - 2s 8ms/step - loss: 0.0300 - accuracy: 0.9903 - val_loss: 0.3935 - val_accuracy: 0.8904\n",
            "Epoch 11/20\n",
            "282/282 [==============================] - 2s 8ms/step - loss: 0.0449 - accuracy: 0.9852 - val_loss: 0.0611 - val_accuracy: 0.9809\n",
            "Epoch 12/20\n",
            "282/282 [==============================] - 2s 8ms/step - loss: 0.0218 - accuracy: 0.9923 - val_loss: 0.0707 - val_accuracy: 0.9814\n",
            "Epoch 13/20\n",
            "282/282 [==============================] - 2s 8ms/step - loss: 0.0184 - accuracy: 0.9926 - val_loss: 0.0482 - val_accuracy: 0.9849\n",
            "Epoch 14/20\n",
            "282/282 [==============================] - 2s 8ms/step - loss: 0.0134 - accuracy: 0.9948 - val_loss: 0.0675 - val_accuracy: 0.9840\n",
            "Epoch 15/20\n",
            "282/282 [==============================] - 2s 8ms/step - loss: 0.0251 - accuracy: 0.9920 - val_loss: 0.0599 - val_accuracy: 0.9885\n",
            "Epoch 16/20\n",
            "282/282 [==============================] - 2s 8ms/step - loss: 0.0312 - accuracy: 0.9899 - val_loss: 0.0931 - val_accuracy: 0.9760\n",
            "Epoch 17/20\n",
            "282/282 [==============================] - 2s 8ms/step - loss: 0.0169 - accuracy: 0.9943 - val_loss: 0.0639 - val_accuracy: 0.9836\n",
            "Epoch 18/20\n",
            "282/282 [==============================] - 2s 8ms/step - loss: 0.0141 - accuracy: 0.9952 - val_loss: 0.0485 - val_accuracy: 0.9889\n",
            "Epoch 19/20\n",
            "282/282 [==============================] - 2s 8ms/step - loss: 0.0096 - accuracy: 0.9969 - val_loss: 0.0664 - val_accuracy: 0.9849\n",
            "Epoch 20/20\n",
            "282/282 [==============================] - 2s 8ms/step - loss: 0.0066 - accuracy: 0.9981 - val_loss: 0.0557 - val_accuracy: 0.9876\n"
          ],
          "name": "stdout"
        }
      ]
    },
    {
      "cell_type": "code",
      "metadata": {
        "id": "zbndzKrDOgz-"
      },
      "source": [
        "model.save('my_model.h5')"
      ],
      "execution_count": null,
      "outputs": []
    },
    {
      "cell_type": "code",
      "metadata": {
        "id": "zGKNZ_zuC4E6"
      },
      "source": [
        "import matplotlib.pyplot as plt\n"
      ],
      "execution_count": null,
      "outputs": []
    },
    {
      "cell_type": "code",
      "metadata": {
        "id": "RHVSospBIb7c",
        "outputId": "60c719e7-786c-48bf-e72c-152eeea3743a",
        "colab": {
          "base_uri": "https://localhost:8080/",
          "height": 279
        }
      },
      "source": [
        "plt.plot(history.history['accuracy'], label='training_accuracy')\n",
        "plt.plot(history.history['val_accuracy'], label='val_accuracy')\n",
        "plt.legend()\n",
        "plt.xlabel('epochs')\n",
        "plt.ylabel('accuracy')\n",
        "\n",
        "plt.show()"
      ],
      "execution_count": null,
      "outputs": [
        {
          "output_type": "display_data",
          "data": {
            "image/png": "[encoded data removed]",
            "text/plain": [
              "<Figure size 432x288 with 1 Axes>"
            ]
          },
          "metadata": {
            "tags": [],
            "needs_background": "light"
          }
        }
      ]
    },
    {
      "cell_type": "code",
      "metadata": {
        "id": "I5LKnwMMImuo",
        "outputId": "27ea8341-25ac-4c5e-9e5b-d8750489964a",
        "colab": {
          "base_uri": "https://localhost:8080/",
          "height": 279
        }
      },
      "source": [
        "plt.plot(history.history['loss'], label='training_loss')\n",
        "plt.plot(history.history['val_loss'], label='val_loss')\n",
        "plt.legend()\n",
        "plt.xlabel('epochs')\n",
        "plt.ylabel('loss')\n",
        "\n",
        "plt.show()"
      ],
      "execution_count": null,
      "outputs": [
        {
          "output_type": "display_data",
          "data": {
            "image/png": "[encoded data removed]",
            "text/plain": [
              "<Figure size 432x288 with 1 Axes>"
            ]
          },
          "metadata": {
            "tags": [],
            "needs_background": "light"
          }
        }
      ]
    },
    {
      "cell_type": "code",
      "metadata": {
        "id": "ZA3RLrnzJSJ9"
      },
      "source": [
        "test_df = pd.read_csv('face_mask_detection/Testing_set_face_mask.csv')"
      ],
      "execution_count": null,
      "outputs": []
    },
    {
      "cell_type": "code",
      "metadata": {
        "id": "pk7S4AytJp7C"
      },
      "source": [
        "test_images = []\n",
        "for i in test_df['filename']:\n",
        "  image = cv2.imread('face_mask_detection/test/' + i)\n",
        "  r = cv2.resize(image, (48,48))\n",
        "  test_images.append(r)"
      ],
      "execution_count": null,
      "outputs": []
    },
    {
      "cell_type": "code",
      "metadata": {
        "id": "1VbINgGnJsPs"
      },
      "source": [
        "test_images = np.array(test_images)"
      ],
      "execution_count": null,
      "outputs": []
    },
    {
      "cell_type": "code",
      "metadata": {
        "id": "hDbmhG5EJ9J5"
      },
      "source": [
        "test_images = test_images.astype('float32')"
      ],
      "execution_count": null,
      "outputs": []
    },
    {
      "cell_type": "code",
      "metadata": {
        "id": "XLuyjRFILQYe"
      },
      "source": [
        "test_images = test_images/255 "
      ],
      "execution_count": null,
      "outputs": []
    },
    {
      "cell_type": "code",
      "metadata": {
        "id": "YCmQjinBMQM3"
      },
      "source": [
        "test_images[0]"
      ],
      "execution_count": null,
      "outputs": []
    },
    {
      "cell_type": "code",
      "metadata": {
        "id": "QFiITH_0MSsA"
      },
      "source": [
        "predictions = model.predict(test_images)"
      ],
      "execution_count": null,
      "outputs": []
    },
    {
      "cell_type": "code",
      "metadata": {
        "id": "xUuRF5GPMYdE"
      },
      "source": [
        "predictionsV = []\n",
        "for i in predictions:\n",
        "  if i < 0.5:\n",
        "    value = 0\n",
        "  else:\n",
        "    value = 1\n",
        "  predictionsV.append(value)    "
      ],
      "execution_count": null,
      "outputs": []
    },
    {
      "cell_type": "code",
      "metadata": {
        "id": "o9-RrHrpMd-A"
      },
      "source": [
        "Anss= pd.Series(predictionsV)"
      ],
      "execution_count": null,
      "outputs": []
    },
    {
      "cell_type": "code",
      "metadata": {
        "id": "ckaktOTCNbZh"
      },
      "source": [
        "mapper = {0:'with_mask', 1:'without_mask'}\n"
      ],
      "execution_count": null,
      "outputs": []
    },
    {
      "cell_type": "code",
      "metadata": {
        "id": "Kaf0qFj6NxaL"
      },
      "source": [
        "Anss = Anss.map(mapper)"
      ],
      "execution_count": null,
      "outputs": []
    },
    {
      "cell_type": "code",
      "metadata": {
        "id": "dohGioLCN12g"
      },
      "source": [
        "pred = Anss.to_numpy()"
      ],
      "execution_count": null,
      "outputs": []
    },
    {
      "cell_type": "code",
      "metadata": {
        "id": "2RrTFLPEN2rs"
      },
      "source": [
        "pred.tofile('pred.csv', sep=',')"
      ],
      "execution_count": null,
      "outputs": []
    },
    {
      "cell_type": "code",
      "metadata": {
        "id": "og09Xn_NOA8p"
      },
      "source": [
        ""
      ],
      "execution_count": null,
      "outputs": []
    }
  ]
}